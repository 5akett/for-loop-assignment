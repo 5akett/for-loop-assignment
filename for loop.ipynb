{
 "cells": [
  {
   "cell_type": "code",
   "execution_count": 1,
   "id": "1246368e-c0dd-418d-a5be-b5b4d48aa6ed",
   "metadata": {},
   "outputs": [
    {
     "name": "stdout",
     "output_type": "stream",
     "text": [
      "apple\n",
      "banana\n",
      "cherry\n"
     ]
    }
   ],
   "source": [
    "#1.use of for loop\n",
    "fruits = [\"apple\", \"banana\", \"cherry\"]\n",
    "for x in fruits:\n",
    "  print(x)"
   ]
  },
  {
   "cell_type": "code",
   "execution_count": 2,
   "id": "a0a78934-c831-43ca-974a-332f8dde4588",
   "metadata": {},
   "outputs": [
    {
     "name": "stdout",
     "output_type": "stream",
     "text": [
      "1\n",
      "2\n",
      "3\n",
      "4\n",
      "5\n"
     ]
    }
   ],
   "source": [
    "#use of while loop\n",
    "i = 1\n",
    "while i < 6:\n",
    "  print(i)\n",
    "  i += 1"
   ]
  },
  {
   "cell_type": "code",
   "execution_count": 4,
   "id": "fa3e1dca-0c0a-4883-b898-a93c9778665f",
   "metadata": {},
   "outputs": [
    {
     "name": "stdout",
     "output_type": "stream",
     "text": [
      "The sum is 55\n",
      "The multiple is 0\n"
     ]
    }
   ],
   "source": [
    "#2.sum natural no\n",
    "num = 10\n",
    "\n",
    "if num < 0:\n",
    "   print(\"Enter a positive number\")\n",
    "else:\n",
    "   sum = 0\n",
    "   # use while loop to iterate until zero\n",
    "   while(num > 0):\n",
    "       sum += num\n",
    "       num -= 1\n",
    "   print(\"The sum is\", sum)\n",
    "#for multiply\n",
    "num = 10\n",
    "\n",
    "if num < 0:\n",
    "   print(\"Enter a positive number\")\n",
    "else:\n",
    "   mul = 0\n",
    "   # use while loop to iterate until zero\n",
    "   while(num > 0):\n",
    "       mul *= num\n",
    "       num -= 1\n",
    "   print(\"The multiple is\", mul)"
   ]
  },
  {
   "cell_type": "code",
   "execution_count": 7,
   "id": "d1b5afe2-c0a9-4441-a608-786ff284077b",
   "metadata": {},
   "outputs": [
    {
     "name": "stdin",
     "output_type": "stream",
     "text": [
      "Enter the number of units consumed:  310\n"
     ]
    },
    {
     "name": "stdout",
     "output_type": "stream",
     "text": [
      "Your electric bill is Rs. 6200.00\n"
     ]
    }
   ],
   "source": [
    "#3.calculate electric bill\n",
    "def calculate_electric_bill(units):\n",
    "    if units <= 100:\n",
    "        per_unit_charge = 4.5\n",
    "    elif units <= 200:\n",
    "        per_unit_charge = 6\n",
    "    elif units <= 300:\n",
    "        per_unit_charge = 10\n",
    "    else:\n",
    "        per_unit_charge = 20\n",
    "\n",
    "    total_charge = units * per_unit_charge\n",
    "    return total_charge\n",
    "\n",
    "# Input: Number of units consumed\n",
    "units_consumed = float(input(\"Enter the number of units consumed: \"))\n",
    "\n",
    "# Calculate and display the electric bill\n",
    "electric_bill = calculate_electric_bill(units_consumed)\n",
    "print(f\"Your electric bill is Rs. {electric_bill:.2f}\")\n",
    "\n",
    "#Enter the number of units consumed: 310\n",
    "#Your electric bill is Rs. 2250.00\n"
   ]
  },
  {
   "cell_type": "code",
   "execution_count": 8,
   "id": "0d8e213a-44ea-4f53-858d-c604601b3379",
   "metadata": {},
   "outputs": [
    {
     "name": "stdout",
     "output_type": "stream",
     "text": [
      "[2, 4, 5, 6, 8, 10, 12, 14, 15, 16, 18, 20, 22, 24, 25, 26, 28, 30, 32, 34, 35, 36, 38, 40, 42, 44, 45, 46, 48, 50, 52, 54, 55, 56, 58, 60, 62, 64, 65, 66, 68, 70, 72, 74, 75, 76, 78, 80, 82, 84, 85, 86, 88, 90, 92, 94, 95, 96, 98, 100]\n",
      "[2, 4, 5, 6, 8, 10, 12, 14, 15, 16, 18, 20, 22, 24, 25, 26, 28, 30, 32, 34, 35, 36, 38, 40, 42, 44, 45, 46, 48, 50, 52, 54, 55, 56, 58, 60, 62, 64, 65, 66, 68, 70, 72, 74, 75, 76, 78, 80, 82, 84, 85, 86, 88, 90, 92, 94, 95, 96, 98, 100]\n"
     ]
    }
   ],
   "source": [
    "#4.# Using for loop\n",
    "numbers = list(range(1, 101))\n",
    "result_list = []\n",
    "\n",
    "for num in numbers:\n",
    "    cube = num ** 3\n",
    "    if cube % 4 == 0 or cube % 5 == 0:\n",
    "        result_list.append(num)\n",
    "\n",
    "print(result_list)\n",
    "# Using while loop\n",
    "numbers = list(range(1, 101))\n",
    "result_list = []\n",
    "index = 0\n",
    "\n",
    "while index < len(numbers):\n",
    "    num = numbers[index]\n",
    "    cube = num ** 3\n",
    "    if cube % 4 == 0 or cube % 5 == 0:\n",
    "        result_list.append(num)\n",
    "    index += 1\n",
    "\n",
    "print(result_list)\n"
   ]
  },
  {
   "cell_type": "code",
   "execution_count": 9,
   "id": "cf017cca-e004-4758-a062-88304da58c0a",
   "metadata": {},
   "outputs": [
    {
     "name": "stdout",
     "output_type": "stream",
     "text": [
      "The number of vowels in the string is: 12\n"
     ]
    }
   ],
   "source": [
    "#5 find vowels\n",
    "string = \"I want to become a data scientist\"\n",
    "\n",
    "# Function to count vowels\n",
    "def count_vowels(input_string):\n",
    "    vowels = \"aeiouAEIOU\"\n",
    "    count = 0\n",
    "\n",
    "    for char in input_string:\n",
    "        if char in vowels:\n",
    "            count += 1\n",
    "\n",
    "    return count\n",
    "\n",
    "# Count vowels in the given string\n",
    "vowel_count = count_vowels(string)\n",
    "\n",
    "print(f\"The number of vowels in the string is: {vowel_count}\")\n"
   ]
  },
  {
   "cell_type": "code",
   "execution_count": null,
   "id": "e442f6ce-f801-4015-bf78-89193c5dba8d",
   "metadata": {},
   "outputs": [],
   "source": []
  }
 ],
 "metadata": {
  "kernelspec": {
   "display_name": "Python 3 (ipykernel)",
   "language": "python",
   "name": "python3"
  },
  "language_info": {
   "codemirror_mode": {
    "name": "ipython",
    "version": 3
   },
   "file_extension": ".py",
   "mimetype": "text/x-python",
   "name": "python",
   "nbconvert_exporter": "python",
   "pygments_lexer": "ipython3",
   "version": "3.10.8"
  }
 },
 "nbformat": 4,
 "nbformat_minor": 5
}
